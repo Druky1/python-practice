{
 "cells": [
  {
   "cell_type": "markdown",
   "id": "35b5c87c",
   "metadata": {},
   "source": [
    "### Strings and User Input"
   ]
  },
  {
   "cell_type": "code",
   "execution_count": 2,
   "id": "f9af6af9",
   "metadata": {},
   "outputs": [
    {
     "name": "stdout",
     "output_type": "stream",
     "text": [
      "Whats your name? Soumik\n",
      "hello, \n",
      "Soumik\n",
      "hello, Soumik\n"
     ]
    }
   ],
   "source": [
    "name = input(\"Whats your name? \")\n",
    "print('hello, ') # Here, python automatically creates a line break i.e :- end = '\\n'\n",
    "print(name)\n",
    "print(\"hello, \", end = \"\") # Here, we mentioned an argument for end to restrain from line breaking\n",
    "print(name)"
   ]
  },
  {
   "cell_type": "code",
   "execution_count": 8,
   "id": "8228bd9b",
   "metadata": {},
   "outputs": [
    {
     "name": "stdout",
     "output_type": "stream",
     "text": [
      "What's your name? Soumik\n",
      "hello, Soumik! How are you doing?\n"
     ]
    }
   ],
   "source": [
    "name = input(\"What's your name? \")\n",
    "print('hello, {}! How are you doing?'.format(name))"
   ]
  },
  {
   "cell_type": "code",
   "execution_count": 16,
   "id": "a96edf24",
   "metadata": {},
   "outputs": [
    {
     "name": "stdout",
     "output_type": "stream",
     "text": [
      "What's your name?            Soumik\n",
      "hello,            Soumik! How are you doing?\n"
     ]
    }
   ],
   "source": [
    "name = input(\"What's your name? \")\n",
    "print(f'hello, {name}! How are you doing?')"
   ]
  },
  {
   "cell_type": "code",
   "execution_count": 17,
   "id": "105bcb0a",
   "metadata": {},
   "outputs": [
    {
     "name": "stdout",
     "output_type": "stream",
     "text": [
      "What's your name? Soumik             \n",
      "hello, Soumik\n"
     ]
    }
   ],
   "source": [
    "name = input(\"What's your name? \")\n",
    "name = name.strip() # Regardless of how many spaces you type 'before' or 'after' the input `name`, it will delete the whitespaces\n",
    "print(f'hello, {name}')"
   ]
  },
  {
   "cell_type": "code",
   "execution_count": 19,
   "id": "f711c074",
   "metadata": {},
   "outputs": [
    {
     "name": "stdout",
     "output_type": "stream",
     "text": [
      "What's your name? soumik\n",
      "hello, Soumik\n"
     ]
    }
   ],
   "source": [
    "name = input(\"What's your name? \")\n",
    "name = name.strip()\n",
    "name = name.title()\n",
    "\n",
    "print('hello, {}'.format(name))"
   ]
  },
  {
   "cell_type": "markdown",
   "id": "767cb314",
   "metadata": {},
   "source": [
    "### Using both functions `strip()` and `title()` at the same time."
   ]
  },
  {
   "cell_type": "code",
   "execution_count": 20,
   "id": "53ace87f",
   "metadata": {},
   "outputs": [
    {
     "name": "stdout",
     "output_type": "stream",
     "text": [
      "What's your name?               soumik\n",
      "hello, Soumik\n"
     ]
    }
   ],
   "source": [
    "name = input(\"What's your name? \")\n",
    "name = name.strip().title()\n",
    "print(f'hello, {name}')"
   ]
  },
  {
   "cell_type": "code",
   "execution_count": 21,
   "id": "a131f899",
   "metadata": {
    "scrolled": true
   },
   "outputs": [
    {
     "name": "stdout",
     "output_type": "stream",
     "text": [
      "What's your name?                   soumik\n",
      "hello, Soumik\n"
     ]
    }
   ],
   "source": [
    "name = input(\"What's your name? \").strip().title()\n",
    "print(f'hello, {name}')"
   ]
  },
  {
   "cell_type": "markdown",
   "id": "4b77e558",
   "metadata": {},
   "source": [
    "### Integers or Int"
   ]
  },
  {
   "cell_type": "code",
   "execution_count": 22,
   "id": "4fd63a52",
   "metadata": {},
   "outputs": [
    {
     "name": "stdout",
     "output_type": "stream",
     "text": [
      "3\n"
     ]
    }
   ],
   "source": [
    "x = 1\n",
    "y = 2\n",
    "z = x + y\n",
    "print(z)"
   ]
  },
  {
   "cell_type": "code",
   "execution_count": 23,
   "id": "c9021e37",
   "metadata": {},
   "outputs": [
    {
     "name": "stdout",
     "output_type": "stream",
     "text": [
      "What's the value of x? 1\n",
      "What's the value of y? 2\n",
      "12\n"
     ]
    }
   ],
   "source": [
    "x = input(\"What's the value of x? \")\n",
    "y = input(\"What's the value of y? \")\n",
    "\n",
    "z = x + y\n",
    "print(z)"
   ]
  },
  {
   "cell_type": "markdown",
   "id": "fdcea81f",
   "metadata": {},
   "source": [
    "#### Oops! it printed the wrong output. It should've been 3, instead it printed 12. Why? \n",
    "That's because Python treats the default input as string. Hence, concatenation '+' takes place.\n",
    "To resolve this issue, we have to convert the input from string to integer."
   ]
  },
  {
   "cell_type": "code",
   "execution_count": 25,
   "id": "052da57f",
   "metadata": {},
   "outputs": [
    {
     "name": "stdout",
     "output_type": "stream",
     "text": [
      "What's the value of x? 1\n",
      "What's the value of y? 2\n",
      "3\n"
     ]
    }
   ],
   "source": [
    "x = input(\"What's the value of x? \")\n",
    "y = input(\"What's the value of y? \")\n",
    "z = int(x) + int(y) # the use of int(x) is called \"casting\".\n",
    "print(z)"
   ]
  },
  {
   "cell_type": "markdown",
   "id": "120acbca",
   "metadata": {},
   "source": [
    "Or, what if we combine it with the input itself? Let's check it out!"
   ]
  },
  {
   "cell_type": "code",
   "execution_count": 26,
   "id": "9578d422",
   "metadata": {},
   "outputs": [
    {
     "name": "stdout",
     "output_type": "stream",
     "text": [
      "What's the value of x? 1\n",
      "What's the value of y? 2\n",
      "3\n"
     ]
    }
   ],
   "source": [
    "x = int(input(\"What's the value of x? \"))\n",
    "y = int(input(\"What's the value of y? \"))\n",
    "print(x + y)"
   ]
  },
  {
   "cell_type": "markdown",
   "id": "53360425",
   "metadata": {},
   "source": [
    "### Float Basics"
   ]
  },
  {
   "cell_type": "code",
   "execution_count": 28,
   "id": "47e03b98",
   "metadata": {},
   "outputs": [
    {
     "name": "stdout",
     "output_type": "stream",
     "text": [
      "What's the value of x? 1.2\n",
      "What's the value of y? 3.6\n",
      "4.8\n"
     ]
    }
   ],
   "source": [
    "x = float(input(\"What's the value of x? \"))\n",
    "y = float(input(\"What's the value of y? \"))\n",
    "print(x + y)"
   ]
  },
  {
   "cell_type": "code",
   "execution_count": 33,
   "id": "0b8043f5",
   "metadata": {},
   "outputs": [
    {
     "name": "stdout",
     "output_type": "stream",
     "text": [
      "What's the value of x? 2021.20\n",
      "What's the value of y? 2020.21\n",
      "4,041\n"
     ]
    }
   ],
   "source": [
    "x = float(input(\"What's the value of x? \"))\n",
    "y = float(input(\"What's the value of y? \"))\n",
    "\n",
    "z = round(x + y)\n",
    "\n",
    "print(f'{z:,}')"
   ]
  },
  {
   "cell_type": "code",
   "execution_count": 36,
   "id": "98372272",
   "metadata": {},
   "outputs": [
    {
     "name": "stdout",
     "output_type": "stream",
     "text": [
      "What's the value of x? 2\n",
      "What's the value of y? 3\n",
      "0.6666666666666666\n"
     ]
    }
   ],
   "source": [
    "x = float(input(\"What's the value of x? \"))\n",
    "y = float(input(\"What's the value of y? \"))\n",
    "\n",
    "z = x / y\n",
    "\n",
    "print(z)"
   ]
  },
  {
   "cell_type": "code",
   "execution_count": 38,
   "id": "263a9932",
   "metadata": {},
   "outputs": [
    {
     "name": "stdout",
     "output_type": "stream",
     "text": [
      "What's the value of x? 2\n",
      "What's the value of y? 3\n",
      "0.67\n"
     ]
    }
   ],
   "source": [
    "x = float(input(\"What's the value of x? \"))\n",
    "y = float(input(\"What's the value of y? \"))\n",
    "\n",
    "z = round(x / y, 2) # Round up to nearest two decimal places\n",
    "\n",
    "print(z)"
   ]
  },
  {
   "cell_type": "markdown",
   "id": "a7f21410",
   "metadata": {},
   "source": [
    "Or, we could use the `fstring` to round upto `n` decimal places"
   ]
  },
  {
   "cell_type": "code",
   "execution_count": 45,
   "id": "f76cd6ad",
   "metadata": {},
   "outputs": [
    {
     "name": "stdout",
     "output_type": "stream",
     "text": [
      "What's the value of x? 2\n",
      "What's the value of y? 3\n",
      "0.67\n"
     ]
    }
   ],
   "source": [
    "x = float(input(\"What's the value of x? \"))\n",
    "y = float(input(\"What's the value of y? \"))\n",
    "\n",
    "z = x / y\n",
    "print(f'{z:.2f}')"
   ]
  },
  {
   "cell_type": "markdown",
   "id": "ec418523",
   "metadata": {},
   "source": [
    "### Defining Functions"
   ]
  },
  {
   "cell_type": "code",
   "execution_count": 47,
   "id": "d54761f6",
   "metadata": {},
   "outputs": [
    {
     "name": "stdout",
     "output_type": "stream",
     "text": [
      "What's your name?     soumik\n",
      "hello, Soumik\n"
     ]
    }
   ],
   "source": [
    "name = input(\"What's your name? \").strip().title()\n",
    "print(f'hello, {name}')"
   ]
  },
  {
   "cell_type": "code",
   "execution_count": 48,
   "id": "a4c4ccfb",
   "metadata": {},
   "outputs": [
    {
     "name": "stdout",
     "output_type": "stream",
     "text": [
      "What's your name? soumik\n"
     ]
    },
    {
     "ename": "NameError",
     "evalue": "name 'hello' is not defined",
     "output_type": "error",
     "traceback": [
      "\u001b[1;31m---------------------------------------------------------------------------\u001b[0m",
      "\u001b[1;31mNameError\u001b[0m                                 Traceback (most recent call last)",
      "\u001b[1;32m~\\AppData\\Local\\Temp\\ipykernel_4328\\4025493504.py\u001b[0m in \u001b[0;36m<module>\u001b[1;34m\u001b[0m\n\u001b[0;32m      1\u001b[0m \u001b[0mname\u001b[0m \u001b[1;33m=\u001b[0m \u001b[0minput\u001b[0m\u001b[1;33m(\u001b[0m\u001b[1;34m\"What's your name? \"\u001b[0m\u001b[1;33m)\u001b[0m\u001b[1;33m\u001b[0m\u001b[1;33m\u001b[0m\u001b[0m\n\u001b[1;32m----> 2\u001b[1;33m \u001b[0mhello\u001b[0m\u001b[1;33m(\u001b[0m\u001b[1;33m)\u001b[0m\u001b[1;33m\u001b[0m\u001b[1;33m\u001b[0m\u001b[0m\n\u001b[0m\u001b[0;32m      3\u001b[0m \u001b[0mprint\u001b[0m\u001b[1;33m(\u001b[0m\u001b[0mname\u001b[0m\u001b[1;33m)\u001b[0m\u001b[1;33m\u001b[0m\u001b[1;33m\u001b[0m\u001b[0m\n",
      "\u001b[1;31mNameError\u001b[0m: name 'hello' is not defined"
     ]
    }
   ],
   "source": [
    "name = input(\"What's your name? \")\n",
    "hello()\n",
    "print(name)"
   ]
  },
  {
   "cell_type": "code",
   "execution_count": 51,
   "id": "140158aa",
   "metadata": {},
   "outputs": [
    {
     "name": "stdout",
     "output_type": "stream",
     "text": [
      "What's your name?     soumik\n",
      "hello, Soumik\n"
     ]
    }
   ],
   "source": [
    "def hello():\n",
    "    print(\"hello, \", end=\"\")\n",
    "\n",
    "name = input(\"What's your name? \").strip().title()\n",
    "hello()\n",
    "print(name)"
   ]
  },
  {
   "cell_type": "code",
   "execution_count": 54,
   "id": "42a535b5",
   "metadata": {},
   "outputs": [
    {
     "name": "stdout",
     "output_type": "stream",
     "text": [
      "What's your name?   soumik\n",
      "hello, Soumik\n"
     ]
    }
   ],
   "source": [
    "def hello(name):\n",
    "    print(\"hello,\",name)\n",
    "\n",
    "name = input(\"What's your name? \").strip().title()\n",
    "hello(name)"
   ]
  },
  {
   "cell_type": "markdown",
   "id": "0a7002c4",
   "metadata": {},
   "source": [
    "We could change our function to have a default value for function calls which might have no arguments. Let's find out!"
   ]
  },
  {
   "cell_type": "code",
   "execution_count": 56,
   "id": "26666233",
   "metadata": {},
   "outputs": [
    {
     "name": "stdout",
     "output_type": "stream",
     "text": [
      "What's your name?     soumik\n",
      "hello, Soumik\n",
      "hello, world\n"
     ]
    }
   ],
   "source": [
    "def hello(name='world'):\n",
    "    print(\"hello,\",name)\n",
    "name = input(\"What's your name? \").strip().title()\n",
    "hello(name)\n",
    "hello() #Since this function has zero arguments, it will take up the default value mentioned in our function as the parameter."
   ]
  },
  {
   "cell_type": "markdown",
   "id": "18517669",
   "metadata": {},
   "source": [
    "We don't necessarily need to have our function at the top, we can move it down. But, we need to tell the compiler that we have a `main` function and a separate `hello` function."
   ]
  },
  {
   "cell_type": "code",
   "execution_count": 58,
   "id": "ba8f46ce",
   "metadata": {},
   "outputs": [],
   "source": [
    "def main():\n",
    "    name = input(\"What's your name? \").strip().title()\n",
    "    hello(name)\n",
    "    hello()\n",
    "\n",
    "def hello(name = 'world'):\n",
    "    print('hello,',name)"
   ]
  },
  {
   "cell_type": "markdown",
   "id": "6253acf4",
   "metadata": {},
   "source": [
    "If we execute the above code, nothing happens! Why? That's because nothing is calling the main function to be executed."
   ]
  },
  {
   "cell_type": "code",
   "execution_count": 59,
   "id": "24e0e932",
   "metadata": {},
   "outputs": [
    {
     "name": "stdout",
     "output_type": "stream",
     "text": [
      "What's your name?           soumik\n",
      "hello, Soumik\n",
      "hello, world\n"
     ]
    }
   ],
   "source": [
    "def main():\n",
    "    name = input(\"What's your name? \").strip().title()\n",
    "    hello(name)\n",
    "    hello()\n",
    "\n",
    "def hello(name = 'world'):\n",
    "    print('hello,',name)\n",
    "\n",
    "main()"
   ]
  },
  {
   "cell_type": "markdown",
   "id": "70cdd0fe",
   "metadata": {},
   "source": [
    "### Return Values"
   ]
  },
  {
   "cell_type": "markdown",
   "id": "c2ba3419",
   "metadata": {},
   "source": [
    "Sometimes, you don't want your function to do perform an action. Instead, you want it to return a value back to the main function and let the main function execute the action. This passing back of value is what we call `return` value."
   ]
  },
  {
   "cell_type": "code",
   "execution_count": 64,
   "id": "df1c9938",
   "metadata": {},
   "outputs": [
    {
     "name": "stdout",
     "output_type": "stream",
     "text": [
      "What's x? 2\n",
      "x squared is: 4\n",
      "x cube is: 8\n"
     ]
    }
   ],
   "source": [
    "def main():\n",
    "    x = int(input(\"What's x? \"))\n",
    "    print(f'x squared is: {square(x)}')\n",
    "    print('x cube is: {}'.format(cube(x)))\n",
    "    \n",
    "def square(x):\n",
    "    return x ** 2\n",
    "\n",
    "def cube(x):\n",
    "    return x ** 3\n",
    "\n",
    "main()"
   ]
  },
  {
   "cell_type": "code",
   "execution_count": 68,
   "id": "37bafcdd",
   "metadata": {},
   "outputs": [
    {
     "name": "stdout",
     "output_type": "stream",
     "text": [
      "What's your name? $oumik\n",
      "oumik\n"
     ]
    }
   ],
   "source": [
    "name = input(\"What's your name? \").lstrip('$') # Removes the leading characters from the input string.\n",
    "print(name)"
   ]
  },
  {
   "cell_type": "code",
   "execution_count": 69,
   "id": "3a247ec1",
   "metadata": {},
   "outputs": [
    {
     "name": "stdout",
     "output_type": "stream",
     "text": [
      "What's your name? Soumik%\n",
      "Soumik\n"
     ]
    }
   ],
   "source": [
    "name = input(\"What's your name? \").rstrip(\"%\") # Removes the trailing characters from the input string.\n",
    "print(name)"
   ]
  },
  {
   "cell_type": "code",
   "execution_count": 71,
   "id": "e23deab6",
   "metadata": {
    "scrolled": true
   },
   "outputs": [
    {
     "name": "stdout",
     "output_type": "stream",
     "text": [
      "What's your name? $Soumik\n",
      ">>Soumik\n"
     ]
    }
   ],
   "source": [
    "name = input(\"What's your name? \").replace(\"$\", \">>\") # Replaces the character encountered within the string with the desired character.\n",
    "print(name)"
   ]
  },
  {
   "cell_type": "markdown",
   "id": "8f79c029",
   "metadata": {},
   "source": [
    "# END"
   ]
  }
 ],
 "metadata": {
  "kernelspec": {
   "display_name": "Python 3 (ipykernel)",
   "language": "python",
   "name": "python3"
  },
  "language_info": {
   "codemirror_mode": {
    "name": "ipython",
    "version": 3
   },
   "file_extension": ".py",
   "mimetype": "text/x-python",
   "name": "python",
   "nbconvert_exporter": "python",
   "pygments_lexer": "ipython3",
   "version": "3.9.13"
  }
 },
 "nbformat": 4,
 "nbformat_minor": 5
}
