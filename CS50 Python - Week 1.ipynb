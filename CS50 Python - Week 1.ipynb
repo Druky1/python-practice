{
 "cells": [
  {
   "cell_type": "markdown",
   "id": "32efa180",
   "metadata": {},
   "source": [
    "### Conditionals\n",
    "Conditional statements allow your program to make certain decisions.\n",
    "For these, we use the `conditional` operators."
   ]
  },
  {
   "cell_type": "code",
   "execution_count": 1,
   "id": "37d7e70c",
   "metadata": {},
   "outputs": [
    {
     "name": "stdout",
     "output_type": "stream",
     "text": [
      "What's x? 2\n",
      "what's y? 4\n",
      "2 is less than 4\n"
     ]
    }
   ],
   "source": [
    "x = int(input(\"What's x? \"))\n",
    "y = int(input(\"what's y? \"))\n",
    "\n",
    "if x < y:\n",
    "    print(\"{} is less than {}\".format(x,y))"
   ]
  },
  {
   "cell_type": "code",
   "execution_count": 2,
   "id": "eb71049e",
   "metadata": {},
   "outputs": [
    {
     "name": "stdout",
     "output_type": "stream",
     "text": [
      "What's x? 2\n",
      "What's y? 3\n",
      "2 is less than 3\n"
     ]
    }
   ],
   "source": [
    "x = int(input(\"What's x? \"))\n",
    "y = int(input(\"What's y? \"))\n",
    "\n",
    "if x < y:\n",
    "    print(f'{x} is less than {y}')\n",
    "if x > y:\n",
    "    print(f'{x} is greater than {y}')\n",
    "if x == y:\n",
    "    print(f'{x} is equal to {y}')"
   ]
  },
  {
   "cell_type": "markdown",
   "id": "a22b9e89",
   "metadata": {},
   "source": [
    "The flow of decisions is called \"Control Flow\". The above code can be improved by not asking three consecutive questions. After all, not all the above conditions have an outcome of true."
   ]
  },
  {
   "cell_type": "code",
   "execution_count": 3,
   "id": "3bb176e3",
   "metadata": {},
   "outputs": [
    {
     "name": "stdout",
     "output_type": "stream",
     "text": [
      "What's x? 2\n",
      "What's y? 54\n",
      "2 is less than 54\n"
     ]
    }
   ],
   "source": [
    "x = int(input(\"What's x? \"))\n",
    "y = int(input(\"What's y? \"))\n",
    "\n",
    "if x < y:\n",
    "    print(f'{x} is less than {y}')\n",
    "elif x > y:\n",
    "    print(f'{x} is greater than {y}')\n",
    "elif x == y:\n",
    "    print(f'{x} is equal to {y}')"
   ]
  },
  {
   "cell_type": "code",
   "execution_count": 4,
   "id": "166ea818",
   "metadata": {},
   "outputs": [
    {
     "name": "stdout",
     "output_type": "stream",
     "text": [
      "What's x? 3\n",
      "What's y? 2\n",
      "3 is greater than 2\n"
     ]
    }
   ],
   "source": [
    "x = int(input(\"What's x? \"))\n",
    "y = int(input(\"What's y? \"))\n",
    "\n",
    "if x < y:\n",
    "    print(f'{x} is less than {y}')\n",
    "elif x > y:\n",
    "    print(f'{x} is greater than {y}')\n",
    "else:\n",
    "    print(f'{x} is equal to {y}')"
   ]
  },
  {
   "cell_type": "markdown",
   "id": "b9945280",
   "metadata": {},
   "source": [
    "`or` operator let's you decide between two alternatives."
   ]
  },
  {
   "cell_type": "code",
   "execution_count": 5,
   "id": "000feb0b",
   "metadata": {},
   "outputs": [
    {
     "name": "stdout",
     "output_type": "stream",
     "text": [
      "What's x? 9\n",
      "What's y? 1\n",
      "9 and 1 are not equal\n"
     ]
    }
   ],
   "source": [
    "x = int(input(\"What's x? \"))\n",
    "y = int(input(\"What's y? \"))\n",
    "\n",
    "if x > y or x < y:\n",
    "    print(f'{x} and {y} are not equal')\n",
    "else:\n",
    "    print(f'{x} and {y} are equal')"
   ]
  },
  {
   "cell_type": "code",
   "execution_count": 6,
   "id": "f3d41a3f",
   "metadata": {},
   "outputs": [
    {
     "name": "stdout",
     "output_type": "stream",
     "text": [
      "What's x? 2\n",
      "What's y? 2\n",
      "2 is equal to 2\n"
     ]
    }
   ],
   "source": [
    "x = int(input(\"What's x? \"))\n",
    "y = int(input(\"What's y? \"))\n",
    "\n",
    "if x != y:\n",
    "    print(f'{x} is not equal to {y}')\n",
    "else:\n",
    "    print('{} is equal to {}'.format(x, y))"
   ]
  },
  {
   "cell_type": "code",
   "execution_count": 9,
   "id": "ea2484dd",
   "metadata": {},
   "outputs": [
    {
     "name": "stdout",
     "output_type": "stream",
     "text": [
      "What's x? 2\n",
      "What's y? 2\n",
      "2 is equal to 2\n"
     ]
    }
   ],
   "source": [
    "x = int(input(\"What's x? \"))\n",
    "y = int(input(\"What's y? \"))\n",
    "\n",
    "if x == y:\n",
    "    print(\"{} is equal to {}\".format(x, y))\n",
    "else:\n",
    "    print(\"{} is not equal to {}\".format(x, y))"
   ]
  },
  {
   "cell_type": "code",
   "execution_count": 14,
   "id": "edd72800",
   "metadata": {},
   "outputs": [
    {
     "name": "stdout",
     "output_type": "stream",
     "text": [
      "Enter the score: 100\n",
      "Grade A\n"
     ]
    }
   ],
   "source": [
    "score = int(input(\"Enter the score: \"))\n",
    "\n",
    "if score <=100 and score >=90:\n",
    "    print(\"Grade A\")\n",
    "elif score <90 and score >=80:\n",
    "    print(\"Grade B\")\n",
    "elif score <80 and score >=70:\n",
    "    print(\"Grade C\")\n",
    "elif score <70 and score >=60:\n",
    "    print('Grade D')\n",
    "else:\n",
    "    print('Grade F')\n"
   ]
  },
  {
   "cell_type": "code",
   "execution_count": 19,
   "id": "f57bc5ad",
   "metadata": {},
   "outputs": [
    {
     "name": "stdout",
     "output_type": "stream",
     "text": [
      "Enter the score: 91\n",
      "Grade A\n"
     ]
    }
   ],
   "source": [
    "score = int(input(\"Enter the score: \"))\n",
    "\n",
    "if score >= 90:\n",
    "    print('Grade A')\n",
    "elif score >= 80:\n",
    "    print('Grade B')\n",
    "elif score >= 70:\n",
    "    print('Grade C')\n",
    "elif score >= 60:\n",
    "    print('Grade D')\n",
    "else:\n",
    "    print('Grade F')"
   ]
  },
  {
   "cell_type": "markdown",
   "id": "455b51d9",
   "metadata": {},
   "source": [
    "### Modulo\n",
    "In mathematics, parity refers to whether a number is odd or even.\n",
    "The `%` modulo operator allows us to check if two numbers divide evenly or have a remainder."
   ]
  },
  {
   "cell_type": "code",
   "execution_count": 20,
   "id": "448cd600",
   "metadata": {},
   "outputs": [
    {
     "name": "stdout",
     "output_type": "stream",
     "text": [
      "What's x? 3\n",
      "3 is odd\n"
     ]
    }
   ],
   "source": [
    "x = int(input(\"What's x? \"))\n",
    "if x % 2 == 0:\n",
    "    print('{} is even'.format(x))\n",
    "else:\n",
    "    print(f'{x} is odd')"
   ]
  },
  {
   "cell_type": "code",
   "execution_count": 21,
   "id": "4d385fe9",
   "metadata": {},
   "outputs": [
    {
     "name": "stdout",
     "output_type": "stream",
     "text": [
      "Enter the number: 2\n",
      "2 is even\n"
     ]
    }
   ],
   "source": [
    "def main():\n",
    "    x = int(input(\"Enter the number: \"))\n",
    "    if is_even(x):\n",
    "        print(f\"{x} is even\")\n",
    "    else:\n",
    "        print(f'{x} is odd')\n",
    "\n",
    "def is_even(x):\n",
    "    if x % 2 == 0:\n",
    "        return True\n",
    "    else:\n",
    "        return False\n",
    "\n",
    "main()"
   ]
  },
  {
   "cell_type": "markdown",
   "id": "2a5f5734",
   "metadata": {},
   "source": [
    "A fun way to write the above code much like an English sentence. This way is sometimes referred to as \"Pythonic\", often found while programmin in Python."
   ]
  },
  {
   "cell_type": "code",
   "execution_count": 24,
   "id": "e5b0f74f",
   "metadata": {},
   "outputs": [
    {
     "name": "stdout",
     "output_type": "stream",
     "text": [
      "Enter the number: 3\n",
      "3 is odd\n"
     ]
    }
   ],
   "source": [
    "def main():\n",
    "    x = int(input(\"Enter the number: \"))\n",
    "    if is_even(x):\n",
    "        print(f'{x} is even')\n",
    "    else:\n",
    "        print(f'{x} is odd')\n",
    "\n",
    "def is_even(x):\n",
    "    return True if x % 2 == 0 else False\n",
    "\n",
    "main()"
   ]
  },
  {
   "cell_type": "markdown",
   "id": "658e1781",
   "metadata": {},
   "source": [
    "Or, let's make it even more simpler. We only check for a condition, our user defined function returns a boolean value anyways."
   ]
  },
  {
   "cell_type": "code",
   "execution_count": 29,
   "id": "ce2129b6",
   "metadata": {},
   "outputs": [
    {
     "name": "stdout",
     "output_type": "stream",
     "text": [
      "Enter the number: 4\n",
      "4 is even\n"
     ]
    }
   ],
   "source": [
    "def main():\n",
    "    x = int(input(\"Enter the number: \"))\n",
    "    if is_even(x):\n",
    "        print(f'{x} is even')\n",
    "    else:\n",
    "        print(f'{x} is odd')\n",
    "\n",
    "def is_even(x):\n",
    "    return x % 2 == 0\n",
    "\n",
    "main()"
   ]
  },
  {
   "cell_type": "markdown",
   "id": "cb3d5d68",
   "metadata": {},
   "source": [
    "### Match\n",
    "Similar to `if`, `elif`, and `else` statements, `match` statements can be used to conditionally run code that matches certain values."
   ]
  },
  {
   "cell_type": "code",
   "execution_count": 30,
   "id": "befb9ea9",
   "metadata": {},
   "outputs": [
    {
     "name": "stdout",
     "output_type": "stream",
     "text": [
      "Enter the name: Cedric\n",
      "Hufflepuff\n"
     ]
    }
   ],
   "source": [
    "name = input(\"Enter the name: \")\n",
    "\n",
    "if name == \"Harry\":\n",
    "    print(\"Gryffindor\")\n",
    "elif name == 'Hermoine':\n",
    "    print(\"Gryffindor\")\n",
    "elif name == \"Ron\":\n",
    "    print(\"Gryffindor\")\n",
    "elif name == \"Draco\":\n",
    "    print(\"Slytherin\")\n",
    "else:\n",
    "    print(\"Hufflepuff\")"
   ]
  },
  {
   "cell_type": "code",
   "execution_count": 36,
   "id": "53f6fda8",
   "metadata": {},
   "outputs": [
    {
     "name": "stdout",
     "output_type": "stream",
     "text": [
      "What's the name? Draco\n",
      "Slytherin\n"
     ]
    }
   ],
   "source": [
    "name = input(\"What's the name? \")\n",
    "\n",
    "if name == 'Harry' or name == 'Hermoine' or name == 'Ron':\n",
    "    print('Gryffindor')\n",
    "elif name == 'Draco':\n",
    "    print('Slytherin')\n",
    "else:\n",
    "    print('Hufflepuff')"
   ]
  },
  {
   "cell_type": "code",
   "execution_count": 37,
   "id": "a88477cc",
   "metadata": {},
   "outputs": [
    {
     "name": "stdout",
     "output_type": "stream",
     "text": [
      "Expression: 20 + 21\n"
     ]
    }
   ],
   "source": [
    "math = input(\"Expression: \").strip()\n",
    "x, y, z = math.split(\" \")"
   ]
  },
  {
   "cell_type": "code",
   "execution_count": 38,
   "id": "3a35e69c",
   "metadata": {},
   "outputs": [
    {
     "name": "stdout",
     "output_type": "stream",
     "text": [
      "20 + 21\n"
     ]
    }
   ],
   "source": [
    "print(x,y,z) # Here, x = 20, y = + , z = 21"
   ]
  },
  {
   "cell_type": "code",
   "execution_count": 39,
   "id": "071d8ef9",
   "metadata": {},
   "outputs": [],
   "source": [
    "num1= float(x)\n",
    "num2 = float(z)"
   ]
  },
  {
   "cell_type": "code",
   "execution_count": 40,
   "id": "1b3dcc25",
   "metadata": {},
   "outputs": [
    {
     "name": "stdout",
     "output_type": "stream",
     "text": [
      "41.0\n"
     ]
    }
   ],
   "source": [
    "if y == '+':\n",
    "    result = num1 + num2\n",
    "    print(f'{result:.1f}')\n",
    "elif y == '*':\n",
    "    result = num1 * num2\n",
    "    print(f'{result:.1f}')\n",
    "elif y == '/':\n",
    "    result = num1 / num2\n",
    "    print(f'{result:.1f}')\n",
    "else:\n",
    "    result = num1 - num2\n",
    "    print(f'{result:.1f}')\n"
   ]
  },
  {
   "cell_type": "code",
   "execution_count": 24,
   "id": "13b9c4c7",
   "metadata": {},
   "outputs": [
    {
     "name": "stdout",
     "output_type": "stream",
     "text": [
      "What time is it? 7:00\n",
      "breakfast time\n"
     ]
    }
   ],
   "source": [
    "def main():\n",
    "    time = input(\"What time is it? \").strip()\n",
    "    if convert(time) >= 7.0 and convert(time) <= 8.0:\n",
    "        print('breakfast time')\n",
    "    elif convert(time) >= 12.0 and convert(time) <= 13.0:\n",
    "        print('lunch time')\n",
    "    elif convert(time) >= 18.0 and convert(time) <= 19.0:\n",
    "        print('dinner time')\n",
    "    else:\n",
    "        return\n",
    "\n",
    "\n",
    "\n",
    "def convert(time):\n",
    "    hours, minutes = time.split(\":\")\n",
    "    hrs = float(hours)\n",
    "    mins = float(minutes) / 60\n",
    "    return float(hrs + mins)\n",
    "\n",
    "\n",
    "if __name__ == \"__main__\":\n",
    "    main()"
   ]
  },
  {
   "cell_type": "code",
   "execution_count": 35,
   "id": "671ba639",
   "metadata": {},
   "outputs": [
    {
     "name": "stdout",
     "output_type": "stream",
     "text": [
      "7:))\n",
      "7 ))\n"
     ]
    }
   ],
   "source": [
    "n = input()\n",
    "x, y = n.split(':')\n",
    "print(x, y)"
   ]
  },
  {
   "cell_type": "code",
   "execution_count": null,
   "id": "a906b4c3",
   "metadata": {},
   "outputs": [],
   "source": []
  }
 ],
 "metadata": {
  "kernelspec": {
   "display_name": "Python 3 (ipykernel)",
   "language": "python",
   "name": "python3"
  },
  "language_info": {
   "codemirror_mode": {
    "name": "ipython",
    "version": 3
   },
   "file_extension": ".py",
   "mimetype": "text/x-python",
   "name": "python",
   "nbconvert_exporter": "python",
   "pygments_lexer": "ipython3",
   "version": "3.9.13"
  }
 },
 "nbformat": 4,
 "nbformat_minor": 5
}
