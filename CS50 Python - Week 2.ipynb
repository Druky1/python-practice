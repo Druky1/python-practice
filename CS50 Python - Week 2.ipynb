{
 "cells": [
  {
   "cell_type": "markdown",
   "id": "ac33bd3e",
   "metadata": {},
   "source": [
    "### Loops\n",
    "The essence of a loop is to do something over and over again. Hence, loops enable you to create a block of code that executes over and over again."
   ]
  },
  {
   "cell_type": "markdown",
   "id": "8a768ee5",
   "metadata": {},
   "source": [
    "#### While Loops\n"
   ]
  },
  {
   "cell_type": "code",
   "execution_count": null,
   "id": "d1731cf8",
   "metadata": {},
   "outputs": [],
   "source": [
    "i = 3\n",
    "while i != 0:\n",
    "    print('hello')"
   ]
  },
  {
   "cell_type": "markdown",
   "id": "aa7c18dd",
   "metadata": {},
   "source": [
    "The above code will run forever. Why? Because while loops work as long as the condition is fulfilled. Here, `3` will never be equal to `0`, making it an infinite loop."
   ]
  },
  {
   "cell_type": "code",
   "execution_count": 1,
   "id": "bcb3a0f7",
   "metadata": {},
   "outputs": [
    {
     "name": "stdout",
     "output_type": "stream",
     "text": [
      "hello\n",
      "hello\n",
      "hello\n"
     ]
    }
   ],
   "source": [
    "i = 3\n",
    "while i != 0:\n",
    "    print('hello')\n",
    "    i -= 1"
   ]
  },
  {
   "cell_type": "markdown",
   "id": "154f39ad",
   "metadata": {},
   "source": [
    "Voila! the code works now! Because, we updated the loop to decrease the value of `i` after each iteration. Here, we're reducing the value of `3` after every step/iteration. Hence, when `i` becomes `0`, the condition mentioned will be fulfilled, terminating the loop."
   ]
  },
  {
   "cell_type": "code",
   "execution_count": 3,
   "id": "2492077c",
   "metadata": {},
   "outputs": [
    {
     "name": "stdout",
     "output_type": "stream",
     "text": [
      "hello\n",
      "hello\n",
      "hello\n"
     ]
    }
   ],
   "source": [
    "i = 0\n",
    "while i< 3:\n",
    "    print(\"hello\")\n",
    "    i = i + 1"
   ]
  },
  {
   "cell_type": "markdown",
   "id": "27d8001d",
   "metadata": {},
   "source": [
    "This is similar to how we count from 0, 1, 2."
   ]
  },
  {
   "cell_type": "markdown",
   "id": "6729c22f",
   "metadata": {},
   "source": [
    "### For Loops\n",
    "A for loop iterates through a `list` of items. "
   ]
  },
  {
   "cell_type": "code",
   "execution_count": 5,
   "id": "389347a7",
   "metadata": {},
   "outputs": [
    {
     "name": "stdout",
     "output_type": "stream",
     "text": [
      "hello\n",
      "hello\n",
      "hello\n"
     ]
    }
   ],
   "source": [
    "for i in [0, 1, 2]:\n",
    "    print(\"hello\")"
   ]
  },
  {
   "cell_type": "markdown",
   "id": "b458c905",
   "metadata": {},
   "source": [
    "Notice how clean this code is compared to your previous while loop code. In this code, `i` begins with `0`, hello, `i` is assigned `1`, hello, and, finally, `i` is assigned `2`, hello, and then ends."
   ]
  },
  {
   "cell_type": "code",
   "execution_count": 6,
   "id": "d5c283e4",
   "metadata": {},
   "outputs": [
    {
     "name": "stdout",
     "output_type": "stream",
     "text": [
      "hello\n",
      "hello\n",
      "hello\n"
     ]
    }
   ],
   "source": [
    "for i in range(3):\n",
    "    print('hello')"
   ]
  },
  {
   "cell_type": "markdown",
   "id": "fc2db89d",
   "metadata": {},
   "source": [
    "Notice how `range(3)` provides back three values `(0, 1, and 2)` automatically."
   ]
  },
  {
   "cell_type": "markdown",
   "id": "fda0413a",
   "metadata": {},
   "source": [
    "In some cases, `i` can be used for some other purpose or not needed at all. In that case, we can also use `_` as a substitute iterator. That will work the same as intended."
   ]
  },
  {
   "cell_type": "code",
   "execution_count": 7,
   "id": "e4f69a3a",
   "metadata": {},
   "outputs": [
    {
     "name": "stdout",
     "output_type": "stream",
     "text": [
      "hello\n",
      "hello\n",
      "hello\n"
     ]
    }
   ],
   "source": [
    "for _ in range(3):\n",
    "    print('hello')"
   ]
  },
  {
   "cell_type": "markdown",
   "id": "4d99223b",
   "metadata": {},
   "source": [
    "### Using While Loop in User Input"
   ]
  },
  {
   "cell_type": "code",
   "execution_count": 10,
   "id": "0a6cd6b8",
   "metadata": {},
   "outputs": [
    {
     "name": "stdout",
     "output_type": "stream",
     "text": [
      "What is x? -1\n",
      "What is x? -2\n",
      "What is x? -3\n",
      "What is x? -4\n",
      "What is x? -5\n",
      "What is x? 10\n"
     ]
    }
   ],
   "source": [
    "while True:\n",
    "    n = int(input(\"What is x? \"))\n",
    "    if n <= 0:\n",
    "        continue\n",
    "    else:\n",
    "        break"
   ]
  },
  {
   "cell_type": "markdown",
   "id": "5bd93f17",
   "metadata": {},
   "source": [
    "The above code is validating the input from our user. Here, if the user types number greater than `0`, it will `break` out of the loop. Else, it will `continue` asking for the input.\n",
    "\n",
    "`continue` - explicitly tells Python to go to the next iteration of the loop.\n",
    "\n",
    "`break` - tells Python to break out of loop, before even finishing all the iterations."
   ]
  },
  {
   "cell_type": "markdown",
   "id": "23a63040",
   "metadata": {},
   "source": [
    "However, in this case, continue is redundant. So, we improve the code as follows."
   ]
  },
  {
   "cell_type": "code",
   "execution_count": 13,
   "id": "b52ec2aa",
   "metadata": {},
   "outputs": [
    {
     "name": "stdout",
     "output_type": "stream",
     "text": [
      "What is x? 4\n",
      "hello\n",
      "hello\n",
      "hello\n",
      "hello\n"
     ]
    }
   ],
   "source": [
    "while True:\n",
    "    n = int(input('What is x? '))\n",
    "    if n > 0:\n",
    "        break\n",
    "\n",
    "for _ in range(n):\n",
    "    print('hello')"
   ]
  },
  {
   "cell_type": "code",
   "execution_count": 15,
   "id": "827de998",
   "metadata": {},
   "outputs": [
    {
     "name": "stdout",
     "output_type": "stream",
     "text": [
      "What's n? 3\n",
      "hello\n",
      "hello\n",
      "hello\n"
     ]
    }
   ],
   "source": [
    "def main():\n",
    "    number = get_number()\n",
    "    meow(number)\n",
    "\n",
    "def get_number():\n",
    "    while True:\n",
    "        n = int(input(\"What's n? \"))\n",
    "        if n > 0:\n",
    "            break\n",
    "    return n\n",
    "\n",
    "def meow(n):\n",
    "    for _ in range(n):\n",
    "        print('hello')\n",
    "main()"
   ]
  },
  {
   "cell_type": "markdown",
   "id": "06aa88b8",
   "metadata": {},
   "source": [
    "### More about Lists"
   ]
  },
  {
   "cell_type": "code",
   "execution_count": 16,
   "id": "e810e5e2",
   "metadata": {},
   "outputs": [
    {
     "name": "stdout",
     "output_type": "stream",
     "text": [
      "Harry\n",
      "Hermoine\n",
      "Ron\n"
     ]
    }
   ],
   "source": [
    "student = ['Harry', 'Hermoine', 'Ron']\n",
    "print(student[0])\n",
    "print(student[1])\n",
    "print(student[2])"
   ]
  },
  {
   "cell_type": "code",
   "execution_count": 18,
   "id": "24bc2263",
   "metadata": {},
   "outputs": [
    {
     "name": "stdout",
     "output_type": "stream",
     "text": [
      "Harry\n",
      "Hermoine\n",
      "Ron\n"
     ]
    }
   ],
   "source": [
    "students = ['Harry', 'Hermoine', 'Ron']\n",
    "for student in students:\n",
    "    print(student)"
   ]
  },
  {
   "cell_type": "code",
   "execution_count": 25,
   "id": "18329e03",
   "metadata": {},
   "outputs": [
    {
     "name": "stdout",
     "output_type": "stream",
     "text": [
      "Length of students is: 3\n",
      "1 Harry\n",
      "2 Hermoine\n",
      "3 Ron\n"
     ]
    }
   ],
   "source": [
    "students = ['Harry', 'Hermoine', 'Ron']\n",
    "print(\"Length of students is:\", len(students))\n",
    "\n",
    "for i in range(len(students)):\n",
    "    print(i + 1, students[i])\n",
    "    "
   ]
  },
  {
   "cell_type": "markdown",
   "id": "0b45f083",
   "metadata": {},
   "source": [
    "### Dictionaries\n",
    "Allows you to associate keys with values."
   ]
  },
  {
   "cell_type": "code",
   "execution_count": 26,
   "id": "84fc8d25",
   "metadata": {},
   "outputs": [],
   "source": [
    "students = {'Harry':'Gryffindor', 'Hermoine':'Gryffindor', 'Ron':'Gryffindor', 'Draco':'Slytherin', 'Newt':'Hufflepuff'}"
   ]
  },
  {
   "cell_type": "code",
   "execution_count": 29,
   "id": "2d0cf2ba",
   "metadata": {},
   "outputs": [
    {
     "name": "stdout",
     "output_type": "stream",
     "text": [
      "Gryffindor\n",
      "Gryffindor\n",
      "Gryffindor\n",
      "Slytherin\n",
      "Hufflepuff\n"
     ]
    }
   ],
   "source": [
    "print(students[\"Harry\"])\n",
    "print(students['Hermoine'])\n",
    "print(students['Ron'])\n",
    "print(students['Draco'])\n",
    "print(students['Newt'])"
   ]
  },
  {
   "cell_type": "code",
   "execution_count": 33,
   "id": "44a3c1f9",
   "metadata": {},
   "outputs": [
    {
     "name": "stdout",
     "output_type": "stream",
     "text": [
      "Harry - Gryffindor\n",
      "Hermoine - Gryffindor\n",
      "Ron - Gryffindor\n",
      "Draco - Slytherin\n",
      "Newt - Hufflepuff\n"
     ]
    }
   ],
   "source": [
    "for student in students:\n",
    "    print(student, students[student], sep = \" - \") # here student prints the keys and students[student] carries the values."
   ]
  },
  {
   "cell_type": "code",
   "execution_count": 34,
   "id": "59d78561",
   "metadata": {},
   "outputs": [],
   "source": [
    "students = [{'name':'Harry', 'house':'Gryffindor', 'patronus':'Stag'},\n",
    "           {'name':'Hermoine', 'house':'Gryffindor', 'patronus':'Otter'},\n",
    "           {'name':'Ron', 'house':'Gryffindor', 'patronus':'Jack Russell Terrier'},\n",
    "           {'name':'Draco', 'house':'Slytherin', 'patronus':None}]"
   ]
  },
  {
   "cell_type": "markdown",
   "id": "085e9d1d",
   "metadata": {},
   "source": [
    "The above code contains `dict` inside `list`"
   ]
  },
  {
   "cell_type": "code",
   "execution_count": 36,
   "id": "833b7911",
   "metadata": {},
   "outputs": [
    {
     "name": "stdout",
     "output_type": "stream",
     "text": [
      "Harry - Gryffindor - Stag\n",
      "Hermoine - Gryffindor - Otter\n",
      "Ron - Gryffindor - Jack Russell Terrier\n",
      "Draco - Slytherin - None\n"
     ]
    }
   ],
   "source": [
    "for student in students:\n",
    "    print(student[\"name\"], student[\"house\"], student[\"patronus\"], sep = \" - \")"
   ]
  },
  {
   "cell_type": "code",
   "execution_count": 37,
   "id": "e703dcfa",
   "metadata": {},
   "outputs": [
    {
     "name": "stdout",
     "output_type": "stream",
     "text": [
      "#\n",
      "#\n",
      "#\n"
     ]
    }
   ],
   "source": [
    "for _ in range(3):\n",
    "    print('#')"
   ]
  },
  {
   "cell_type": "code",
   "execution_count": 39,
   "id": "e864393f",
   "metadata": {},
   "outputs": [
    {
     "name": "stdout",
     "output_type": "stream",
     "text": [
      "#\n",
      "#\n",
      "#\n"
     ]
    }
   ],
   "source": [
    "def main():\n",
    "    print_col(3)\n",
    "\n",
    "def print_col(height):\n",
    "    for i in range(height):\n",
    "        print(\"#\")\n",
    "main()"
   ]
  },
  {
   "cell_type": "code",
   "execution_count": 43,
   "id": "199253c3",
   "metadata": {},
   "outputs": [
    {
     "name": "stdout",
     "output_type": "stream",
     "text": [
      "????\n"
     ]
    }
   ],
   "source": [
    "def main():\n",
    "    print_row(4)\n",
    "def print_row(rows):\n",
    "    print(\"?\" * rows)\n",
    "main()"
   ]
  },
  {
   "cell_type": "code",
   "execution_count": 48,
   "id": "cdcd4642",
   "metadata": {},
   "outputs": [
    {
     "name": "stdout",
     "output_type": "stream",
     "text": [
      "###\n",
      "###\n",
      "###\n"
     ]
    }
   ],
   "source": [
    "def main():\n",
    "    print_square(3)\n",
    "\n",
    "def print_square(size):\n",
    "    # for every row in square \n",
    "    for row in range(size):\n",
    "        # for every brick in square\n",
    "        for col in range(size):\n",
    "            \n",
    "            print('#', end=\"\")\n",
    "            \n",
    "        print()\n",
    "    \n",
    "\n",
    "main()"
   ]
  },
  {
   "cell_type": "markdown",
   "id": "7c07abca",
   "metadata": {},
   "source": [
    "Here, the func `print_square` takes in `3` as the size of the square and starts off with printing the first row and filling it with the bricks.\n",
    "\n",
    "Now, let's understand the working of the loop!\n",
    "\n",
    "Given, size = 3\n",
    "\n",
    "row = 0 -> _ _ _\n",
    "\n",
    "col = 0 -> #\n",
    "\n",
    "col = 1 -> # #\n",
    "\n",
    "col = 2 -> # # #\n",
    "\n",
    "print() -> takes us to the new line\n",
    "\n",
    "continue..."
   ]
  },
  {
   "cell_type": "code",
   "execution_count": null,
   "id": "c8976d4b",
   "metadata": {},
   "outputs": [],
   "source": [
    "name = input(\"camelCase: \").strip()\n",
    "print('snake_case: ', end='')\n",
    "for c in name:\n",
    "    if c.isupper():\n",
    "        print(\"_\", c.lower(), end=\"\", sep=\"\")\n",
    "    if c.islower():\n",
    "        print(c, end=\"\")\n",
    "print()"
   ]
  }
 ],
 "metadata": {
  "kernelspec": {
   "display_name": "Python 3 (ipykernel)",
   "language": "python",
   "name": "python3"
  },
  "language_info": {
   "codemirror_mode": {
    "name": "ipython",
    "version": 3
   },
   "file_extension": ".py",
   "mimetype": "text/x-python",
   "name": "python",
   "nbconvert_exporter": "python",
   "pygments_lexer": "ipython3",
   "version": "3.9.13"
  }
 },
 "nbformat": 4,
 "nbformat_minor": 5
}
